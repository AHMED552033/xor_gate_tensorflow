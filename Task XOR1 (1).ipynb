{
 "cells": [
  {
   "cell_type": "code",
   "execution_count": 2,
   "id": "9bd980db-d7b9-4276-a705-a33d5a6a1988",
   "metadata": {},
   "outputs": [
    {
     "name": "stdout",
     "output_type": "stream",
     "text": [
      "\u001b[1m1/1\u001b[0m \u001b[32m━━━━━━━━━━━━━━━━━━━━\u001b[0m\u001b[37m\u001b[0m \u001b[1m0s\u001b[0m 18ms/step\n",
      "Predicted Truth Table:\n",
      "[[0. 0. 1.]\n",
      " [1. 0. 1.]\n",
      " [0. 1. 1.]\n",
      " [1. 1. 0.]]\n"
     ]
    }
   ],
   "source": [
    "import numpy as np  \n",
    "import tensorflow as tf  \n",
    "\n",
    "# Prepare XOR gate dataset  \n",
    "xor_table = np.array([[0, 0, 0],  \n",
    "                      [1, 0, 1],  \n",
    "                      [0, 1, 1],  \n",
    "                      [1, 1, 0]], dtype=np.float32)  \n",
    "\n",
    "x_train = xor_table[:, :2]  # Inputs: x1, x2  \n",
    "y_train = xor_table[:, 2:]  # Labels: y  \n",
    "\n",
    "# Define a neural network model for XOR\n",
    "class LogicGate(tf.keras.Model):  \n",
    "    def __init__(self):  \n",
    "        super(LogicGate, self).__init__()  \n",
    "        self.dense1 = tf.keras.layers.Dense(4, activation='relu')  # Hidden layer  \n",
    "        self.dense2 = tf.keras.layers.Dense(1, activation='sigmoid')  # Output layer  \n",
    "\n",
    "    def call(self, inputs):  \n",
    "        x = self.dense1(inputs)  \n",
    "        return self.dense2(x)  \n",
    "\n",
    "# Initialize and compile the model  \n",
    "model = LogicGate()  \n",
    "model.compile(optimizer=tf.keras.optimizers.Adam(learning_rate=0.1),  \n",
    "              loss='binary_crossentropy',  \n",
    "              metrics=['accuracy'])  \n",
    "\n",
    "# Train the model  \n",
    "model.fit(x_train, y_train, epochs=1000, verbose=0)  \n",
    "\n",
    "# Evaluate and print results  \n",
    "y_pred = model.predict(x_train).round().astype(np.uint8)  \n",
    "\n",
    "print(\"Predicted Truth Table:\")  \n",
    "print(np.column_stack((xor_table[:, :2], y_pred)))  \n"
   ]
  },
  {
   "cell_type": "code",
   "execution_count": null,
   "id": "2fd80b95-73d3-46d5-88c3-bd89cb38b945",
   "metadata": {},
   "outputs": [],
   "source": []
  }
 ],
 "metadata": {
  "kernelspec": {
   "display_name": "Python (base)",
   "language": "python",
   "name": "base"
  },
  "language_info": {
   "codemirror_mode": {
    "name": "ipython",
    "version": 3
   },
   "file_extension": ".py",
   "mimetype": "text/x-python",
   "name": "python",
   "nbconvert_exporter": "python",
   "pygments_lexer": "ipython3",
   "version": "3.12.7"
  }
 },
 "nbformat": 4,
 "nbformat_minor": 5
}
